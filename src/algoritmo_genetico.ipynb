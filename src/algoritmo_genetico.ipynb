{
 "cells": [
  {
   "cell_type": "markdown",
   "metadata": {
    "id": "4pdZC6KTdpNh"
   },
   "source": [
    "# O Problema da Mochila (Knapsack Problem)\n",
    "\n",
    "O Problema da Mochila é um problema clássico de otimização combinatória. A ideia é selecionar itens para colocar em uma mochila com capacidade limitada, de forma a maximizar o valor total dos itens escolhidos sem ultrapassar o limite de peso.\n",
    "\n",
    "## Descrição do Problema da Mochila\n",
    "\n",
    "- Suponha que temos uma mochila com uma capacidade de peso máxima $W$.\n",
    "- Existem $n$ itens disponíveis, onde cada item $i$ possui um peso $w_i$ e um valor $v_i$.\n",
    "- Nosso objetivo é maximizar o valor total dos itens escolhidos, respeitando a restrição de peso da mochila."
   ]
  },
  {
   "cell_type": "code",
   "execution_count": null,
   "metadata": {
    "id": "6gYb7iTrhmzV"
   },
   "outputs": [],
   "source": [
    "import random\n",
    "\n",
    "def geraPopulacaoInicial(tamanhoPopulacao, quantidadeItens):\n",
    "\n",
    "  # Gera uma população inicial de indivíduos, onde cada indivíduo é um vetor binário\n",
    "  # representando a presença (1) ou ausência (0) de um item na mochila.\n",
    "\n",
    "  populacao = []\n",
    "\n",
    "  for i in range(tamanhoPopulacao):\n",
    "\n",
    "    populacao.append([random.randint(0, 1) for j in range(quantidadeItens)]) # Aleatoriamente seleciona 0 ou 1 para cada item\n",
    "\n",
    "  return populacao"
   ]
  },
  {
   "cell_type": "code",
   "execution_count": null,
   "metadata": {
    "id": "3ltfxVregusH"
   },
   "outputs": [],
   "source": [
    "from itertools import combinations\n",
    "\n",
    "def calculaSolucaoOtima(pesosValores, capacidade):\n",
    "\n",
    "  # Inicializa a variável para armazenar o melhor valor encontrado\n",
    "  melhor_valor = 0\n",
    "\n",
    "  # Variável que pode armazenar a combinação de itens que resulta no melhor valor\n",
    "  melhor_combinacao = None\n",
    "\n",
    "  # 'numItens' recebe o número total de itens disponíveis\n",
    "  numItens = len(pesosValores)\n",
    "\n",
    "  # Itera sobre todas as combinações possíveis de itens, com 'r' variando de 1 até o número total de itens\n",
    "  for r in range(1, numItens + 1):\n",
    "\n",
    "    # 'combinations(range(numItens), r)' gera todas as combinações possíveis de 'r' itens a partir do total de itens disponíveis\n",
    "    for combinacao in combinations(range(numItens), r):\n",
    "\n",
    "      # Calcula o peso total da combinação atual\n",
    "      peso_total = sum(pesosValores[i][0] for i in combinacao)\n",
    "\n",
    "      # Calcula o valor total da combinação atual\n",
    "      valor_total = sum(pesosValores[i][1] for i in combinacao)\n",
    "\n",
    "      # Verifica se o peso total não excede a capacidade da mochila\n",
    "      if peso_total <= capacidade:\n",
    "\n",
    "        # Se o valor total da combinação atual for maior do que o melhor valor encontrado até agora\n",
    "        if valor_total > melhor_valor:\n",
    "\n",
    "          # Atualiza o melhor valor e a melhor combinação\n",
    "          melhor_valor = valor_total\n",
    "\n",
    "          melhor_combinacao = combinacao\n",
    "\n",
    "  # Retorna o melhor valor encontrado\n",
    "  return melhor_valor"
   ]
  },
  {
   "cell_type": "code",
   "execution_count": null,
   "metadata": {
    "id": "rVXE30qiSbRz"
   },
   "outputs": [],
   "source": [
    "def fitness(populacao, pesosValores, capacidade):\n",
    "\n",
    "  # Calcula o valor de fitness para cada indivíduo da população.\n",
    "\n",
    "  fits = []\n",
    "\n",
    "  for individuo in populacao:\n",
    "\n",
    "    # Calcula o valor total e o peso total dos itens selecionados\n",
    "    peso_total = sum(peso for (peso, valor), gene in zip(pesosValores, individuo) if gene == 1)\n",
    "\n",
    "    valor_total = sum(valor for (peso, valor), gene in zip(pesosValores, individuo) if gene == 1)\n",
    "\n",
    "    if peso_total <= capacidade:\n",
    "\n",
    "      fits.append(valor_total) # Adiciona o valor ao fitness se o peso for válido\n",
    "\n",
    "    else:\n",
    "\n",
    "      fits.append(0) # Penalidade por exceder a capacidade da mochila\n",
    "\n",
    "  return fits"
   ]
  },
  {
   "cell_type": "code",
   "execution_count": null,
   "metadata": {
    "id": "uAF2-XEhd7xR"
   },
   "outputs": [],
   "source": [
    "def roletaViciada(populacao, fits):\n",
    "\n",
    "  # Seleciona um indivíduo da população com base no fitness relativo, simulando uma roleta viciada.\n",
    "\n",
    "  totalFitness = sum(fits)\n",
    "\n",
    "  if totalFitness == 0:  # Caso todos os indivíduos sejam inválidos\n",
    "\n",
    "    return random.choice(populacao)\n",
    "\n",
    "  # Calcula as probabilidades relativas de cada indivíduo\n",
    "  probabilidades = [fit / totalFitness for fit in fits]\n",
    "\n",
    "  acumulado = 0\n",
    "\n",
    "  intervalos = []\n",
    "\n",
    "  # Cria intervalos cumulativos para simular a roleta\n",
    "  for prob in probabilidades:\n",
    "\n",
    "    acumulado += prob\n",
    "\n",
    "    intervalos.append(acumulado)\n",
    "\n",
    "  # Gira a roleta\n",
    "  roleta = random.random()\n",
    "\n",
    "  for i, intervalo in enumerate(intervalos):\n",
    "\n",
    "    if roleta <= intervalo:\n",
    "\n",
    "      return populacao[i]"
   ]
  },
  {
   "cell_type": "code",
   "execution_count": null,
   "metadata": {
    "id": "OGCNUmSafTOI"
   },
   "outputs": [],
   "source": [
    "def selecaoNatural(populacao, fits, numeroCasais):\n",
    "\n",
    "  # Seleciona indivíduos para reprodução com base no fitness.\n",
    "\n",
    "  selecionados = []\n",
    "\n",
    "  for i in range(2 * numeroCasais):  # Precisamos de dois indivíduos por casal\n",
    "\n",
    "      selecionados.append(roletaViciada(populacao, fits))\n",
    "\n",
    "  return selecionados"
   ]
  },
  {
   "cell_type": "code",
   "execution_count": null,
   "metadata": {
    "id": "AWXgiFL8fcUD"
   },
   "outputs": [],
   "source": [
    "def crossOver(genoma1, genoma2):\n",
    "\n",
    "  # Realiza crossover entre dois indivíduos para gerar dois filhos.\n",
    "\n",
    "  ponto_corte = random.randint(1, len(genoma1) - 1)  # Define um ponto de corte\n",
    "\n",
    "  # Cria dois filhos combinando partes dos genomas dos pais\n",
    "  filho1 = genoma1[:ponto_corte] + genoma2[ponto_corte:]\n",
    "\n",
    "  filho2 = genoma2[:ponto_corte] + genoma1[ponto_corte:]\n",
    "\n",
    "  return filho1, filho2"
   ]
  },
  {
   "cell_type": "code",
   "execution_count": null,
   "metadata": {
    "id": "6orvzOu5gbbA"
   },
   "outputs": [],
   "source": [
    "def mutacao(individuo, taxaMutacao):\n",
    "\n",
    "  # Aplica uma mutação em um indivíduo com uma determinada probabilidade.\n",
    "\n",
    "  for i in range(len(individuo)):\n",
    "\n",
    "    if random.random() < taxaMutacao:  # Decide se o gene será mutado\n",
    "\n",
    "      individuo[i] = 1 - individuo[i]  # Alterna entre 0 e 1\n",
    "\n",
    "  return individuo"
   ]
  },
  {
   "cell_type": "code",
   "execution_count": null,
   "metadata": {
    "id": "ov-gfoBArFGU"
   },
   "outputs": [],
   "source": [
    "def algoritmoGenetico(pesosValores, capacidade, tamanhoPopulacao, numGeracoes, taxaMutacao, numCasais):\n",
    "\n",
    "  # Executa o algoritmo genético para resolver o problema da mochila.\n",
    "\n",
    "  numGenes = len(pesosValores)\n",
    "\n",
    "  populacao = geraPopulacaoInicial(tamanhoPopulacao, numGenes)\n",
    "\n",
    "  solucao_otima = calculaSolucaoOtima(pesosValores, capacidade)\n",
    "\n",
    "  for geracao in range(numGeracoes):\n",
    "\n",
    "    # Calcula o fitness da população\n",
    "    fits = fitness(populacao, pesosValores, capacidade)\n",
    "\n",
    "    # Verifica se algum indivíduo já encontrou a solução ótima\n",
    "    if max(fits) == solucao_otima:\n",
    "\n",
    "      print(f\"Solução ótima encontrada na geração {geracao + 1}\")\n",
    "\n",
    "      break\n",
    "\n",
    "    # Seleção natural\n",
    "    reprodutores = selecaoNatural(populacao, fits, numCasais)\n",
    "\n",
    "    # Crossover e geração da nova população\n",
    "    novaPopulacao = []\n",
    "\n",
    "    for i in range(0, len(reprodutores), 2):\n",
    "\n",
    "      filho1, filho2 = crossOver(reprodutores[i], reprodutores[i + 1])\n",
    "\n",
    "      novaPopulacao.extend([filho1, filho2])\n",
    "\n",
    "    # Aplicação de mutação\n",
    "    novaPopulacao = [mutacao(individuo, taxaMutacao) for individuo in novaPopulacao]\n",
    "\n",
    "    # Atualiza a população\n",
    "    populacao = novaPopulacao\n",
    "\n",
    "  # Após todas as gerações, retorna o melhor indivíduo encontrado\n",
    "  fits = fitness(populacao, pesosValores, capacidade)\n",
    "\n",
    "  melhor_individuo = populacao[fits.index(max(fits))]\n",
    "\n",
    "  return melhor_individuo, max(fits)"
   ]
  },
  {
   "cell_type": "code",
   "execution_count": null,
   "metadata": {
    "colab": {
     "base_uri": "https://localhost:8080/"
    },
    "id": "iPbAr7DbOhHz",
    "outputId": "fa47dd2e-043e-4e1e-89a1-422e7d252087"
   },
   "outputs": [
    {
     "name": "stdout",
     "output_type": "stream",
     "text": [
      "Solução ótima encontrada na geração 18\n",
      "Melhor indivíduo: [1, 1, 1, 0, 1, 1, 1, 1, 0, 1]\n",
      "Valor: 830\n"
     ]
    }
   ],
   "source": [
    "pesosValores = [[4, 30], [8, 10], [8, 30], [25, 75], [2, 10], [50, 100], [6, 300], [12, 50], [100, 400], [8, 300]]\n",
    "\n",
    "capacidade_mochila = 100\n",
    "\n",
    "tamanhoPopulacao = 10\n",
    "\n",
    "numGeracoes = 20\n",
    "\n",
    "taxaMutacao = 0.2\n",
    "\n",
    "numCasais = 5\n",
    "\n",
    "resultado, valor = algoritmoGenetico(pesosValores, capacidade_mochila, tamanhoPopulacao, numGeracoes, taxaMutacao, numCasais)\n",
    "\n",
    "print(\"Melhor indivíduo:\", resultado)\n",
    "\n",
    "print(\"Valor:\", valor)"
   ]
  },
  {
   "cell_type": "code",
   "execution_count": null,
   "metadata": {
    "colab": {
     "base_uri": "https://localhost:8080/"
    },
    "id": "BUof4UAEzXJv",
    "outputId": "9c5ad23a-2fc7-4ea1-eea1-f88f7e58c5dc"
   },
   "outputs": [
    {
     "name": "stdout",
     "output_type": "stream",
     "text": [
      "Solução ótima encontrada na geração 20\n",
      "Melhor indivíduo: [1, 1, 1, 1, 1, 0, 1, 1]\n",
      "Valor: 505\n"
     ]
    }
   ],
   "source": [
    "pesosValores = [[5, 30], [7, 10], [8, 30], [25, 75], [3, 10], [50, 100], [6, 300], [12, 50]]\n",
    "\n",
    "capacidade_mochila = 75\n",
    "\n",
    "tamanhoPopulacao = 8\n",
    "\n",
    "numGeracoes = 50\n",
    "\n",
    "taxaMutacao = 0.3\n",
    "\n",
    "numCasais = 4\n",
    "\n",
    "resultado, valor = algoritmoGenetico(pesosValores, capacidade_mochila, tamanhoPopulacao, numGeracoes, taxaMutacao, numCasais)\n",
    "\n",
    "print(\"Melhor indivíduo:\", resultado)\n",
    "\n",
    "print(\"Valor:\", valor)"
   ]
  }
 ],
 "metadata": {
  "colab": {
   "provenance": []
  },
  "kernelspec": {
   "display_name": "base",
   "language": "python",
   "name": "python3"
  },
  "language_info": {
   "codemirror_mode": {
    "name": "ipython",
    "version": 3
   },
   "file_extension": ".py",
   "mimetype": "text/x-python",
   "name": "python",
   "nbconvert_exporter": "python",
   "pygments_lexer": "ipython3",
   "version": "3.12.3"
  }
 },
 "nbformat": 4,
 "nbformat_minor": 0
}
